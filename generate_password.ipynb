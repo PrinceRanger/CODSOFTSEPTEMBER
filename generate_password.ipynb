{
 "cells": [
  {
   "cell_type": "markdown",
   "id": "49005e2a",
   "metadata": {},
   "source": [
    "# GENERATE PASSWORD "
   ]
  },
  {
   "cell_type": "code",
   "execution_count": 1,
   "id": "98790f4a",
   "metadata": {},
   "outputs": [
    {
     "name": "stdout",
     "output_type": "stream",
     "text": [
      "Enter the length of password : 20\n",
      "Generated Password : YUWv2]Jgy[g[?t2Ujb0s\n"
     ]
    }
   ],
   "source": [
    "import random\n",
    "import string\n",
    "\n",
    "def generate_password(length):\n",
    "    # Define the characters which includes words,digits,symbols\n",
    "    characters = string.ascii_letters + string.digits + string.punctuation\n",
    "    \n",
    "    # creating random password\n",
    "    password = ''.join(random.choice(characters) for _ in range(length))\n",
    "    \n",
    "    return password\n",
    "\n",
    "def main():\n",
    "    try:\n",
    "        # Give the length of the password\n",
    "        length = int(input(\"Enter the length of password : \"))\n",
    "        \n",
    "        # Check if the length is valid (greater than 0)\n",
    "        if length <= 0:\n",
    "            print(\"Password can not be 0 length.\")\n",
    "        else:\n",
    "            # display the password\n",
    "            password = generate_password(length)\n",
    "            print(\"Generated Password :\", password)\n",
    "    except ValueError:\n",
    "        print(\"Invalid input. Please enter a valid number.\")\n",
    "\n",
    "if __name__ == \"__main__\":\n",
    "    main()"
   ]
  },
  {
   "cell_type": "code",
   "execution_count": null,
   "id": "ec0fa376",
   "metadata": {},
   "outputs": [],
   "source": []
  }
 ],
 "metadata": {
  "kernelspec": {
   "display_name": "Python 3 (ipykernel)",
   "language": "python",
   "name": "python3"
  },
  "language_info": {
   "codemirror_mode": {
    "name": "ipython",
    "version": 3
   },
   "file_extension": ".py",
   "mimetype": "text/x-python",
   "name": "python",
   "nbconvert_exporter": "python",
   "pygments_lexer": "ipython3",
   "version": "3.9.12"
  }
 },
 "nbformat": 4,
 "nbformat_minor": 5
}
