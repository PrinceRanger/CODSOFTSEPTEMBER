{
 "cells": [
  {
   "cell_type": "markdown",
   "id": "28714ccc",
   "metadata": {},
   "source": [
    "# CALCULATOR"
   ]
  },
  {
   "cell_type": "code",
   "execution_count": 4,
   "id": "8aead9a5",
   "metadata": {},
   "outputs": [
    {
     "name": "stdout",
     "output_type": "stream",
     "text": [
      "SELECT OPERATIONS\n",
      "1. ADDITION \n",
      "2. SUBTRACTION \n",
      "3. MULTIPLICATION \n",
      "4. DIVISION \n",
      "5. EXPONENTIAL \n",
      "6. MODULUS \n",
      "\n",
      "ENTER CHOICE OF OPERATION 1 or 2 or 3 or 4 or 5 or 6 : 2\n",
      "ENTER THE FIRST NUMBER : 50\n",
      "ENTER THE SECOND NUMBER : 10\n",
      "50.0 - 10.0 = 40.0\n"
     ]
    }
   ],
   "source": [
    "# CREATING A DEF FUNCTION FOR OPERATIONS \n",
    "\n",
    "    # ADDITION\n",
    "def Addition(number_1,number_2):\n",
    "    return number_1+number_2\n",
    "\n",
    "    # SUBTRACTION\n",
    "def Subtraction(number_1,number_2):\n",
    "    return number_1-number_2\n",
    "\n",
    "    # MULTIPLICATION\n",
    "def Multiplication(number_1,number_2):\n",
    "    return number_1*number_2\n",
    "\n",
    "    # DIVISION\n",
    "def Division(number_1,number_2):\n",
    "    return number_1/number_2\n",
    "\n",
    "    # EXPONENTIAL\n",
    "def Exponential(number_1,number_2):\n",
    "    return number_1**number_2\n",
    "\n",
    "    # MODULUS\n",
    "def Modulus(number_1,number_2):\n",
    "    return number_1%number_2\n",
    "\n",
    "\n",
    "# SELECTION OF OPERATIONS\n",
    "print(\"SELECT OPERATIONS\")\n",
    "print(\"1. ADDITION \\n\"\\\n",
    "      \"2. SUBTRACTION \\n\"\\\n",
    "      \"3. MULTIPLICATION \\n\"\\\n",
    "      \"4. DIVISION \\n\" \\\n",
    "      \"5. EXPONENTIAL \\n\" \\\n",
    "      \"6. MODULUS \\n\")\n",
    "\n",
    "operation = int(input(\"ENTER CHOICE OF OPERATION 1 or 2 or 3 or 4 or 5 or 6 : \" ))\n",
    "\n",
    "\n",
    "# INPUT THE FLOAT NUMBER\n",
    "number_1 = float(input(\"ENTER THE FIRST NUMBER : \"))\n",
    "number_2 = float(input(\"ENTER THE SECOND NUMBER : \"))\n",
    "\n",
    "    \n",
    "\n",
    "# OUTPUT OPERATIONS  \n",
    "if operation == 1 :\n",
    "    print(number_1 , \"+\" , number_2 , \"=\" , Addition(number_1,number_2))\n",
    "    \n",
    "elif operation == 2 :\n",
    "    print(number_1 , \"-\" , number_2 , \"=\" , Subtraction(number_1,number_2))\n",
    "    \n",
    "elif operation == 3 :\n",
    "    print(number_1 , \"*\" , number_2 , \"=\" , Multiplication(number_1,number_2))\n",
    "    \n",
    "elif operation == 4 :\n",
    "    print(number_1 , \"/\" , number_2 , \"=\" , Division(number_1,number_2))\n",
    "    \n",
    "elif operation == 5 :\n",
    "    print(number_1 , \"**\" , number_2 , \"=\" , Exponential(number_1,number_2))\n",
    "\n",
    "elif operation == 6 :\n",
    "    print(number_1 , \"%\" , number_2 , \"=\" , Modulus(number_1,number_2))\n",
    "    \n",
    "else :\n",
    "    print(\"INVALID NUMBER\")"
   ]
  },
  {
   "cell_type": "code",
   "execution_count": null,
   "id": "663a1305",
   "metadata": {},
   "outputs": [],
   "source": []
  }
 ],
 "metadata": {
  "kernelspec": {
   "display_name": "Python 3 (ipykernel)",
   "language": "python",
   "name": "python3"
  },
  "language_info": {
   "codemirror_mode": {
    "name": "ipython",
    "version": 3
   },
   "file_extension": ".py",
   "mimetype": "text/x-python",
   "name": "python",
   "nbconvert_exporter": "python",
   "pygments_lexer": "ipython3",
   "version": "3.9.12"
  }
 },
 "nbformat": 4,
 "nbformat_minor": 5
}
